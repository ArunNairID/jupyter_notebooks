{
 "cells": [
  {
   "cell_type": "markdown",
   "metadata": {},
   "source": [
    "# Analyzing Physical Activity Monitoring Data"
   ]
  },
  {
   "cell_type": "markdown",
   "metadata": {},
   "source": [
    "### Data obtain [here](https://archive.ics.uci.edu/ml/datasets/PAMAP2+Physical+Activity+Monitoring)."
   ]
  },
  {
   "cell_type": "code",
   "execution_count": 61,
   "metadata": {
    "collapsed": true
   },
   "outputs": [],
   "source": [
    "%matplotlib inline\n",
    "import matplotlib.pyplot as plt\n",
    "import pandas as pd\n",
    "import seaborn as sns\n",
    "sns.set_style('whitegrid')\n",
    "custom_style = {\n",
    "            'grid.color': '0.8',\n",
    "            'grid.linestyle': '--',\n",
    "            'grid.linewidth': 0.5,\n",
    "}\n",
    "sns.set_style(custom_style)"
   ]
  },
  {
   "cell_type": "code",
   "execution_count": 11,
   "metadata": {
    "collapsed": true
   },
   "outputs": [],
   "source": [
    "columns = ['timestamp', 'activity_id', 'heart_rate',\n",
    "           'IMU_HAND_TEMP_C',\n",
    "           'IMU_HAND_16G_2',\n",
    "           'IMU_HAND_16G_3',\n",
    "           'IMU_HAND_16G_4',\n",
    "           'IMU_HAND_6G_5',\n",
    "           'IMU_HAND_6G_6',\n",
    "           'IMU_HAND_6G_7',\n",
    "           'IMU_HAND_GYRO_8',\n",
    "           'IMU_HAND_GYRO_9',\n",
    "           'IMU_HAND_GYRO_10',\n",
    "           'IMU_HAND_MAG_11',\n",
    "           'IMU_HAND_MAG_12',\n",
    "           'IMU_HAND_MAG_13',\n",
    "           'IMU_HAND_ORIENT_14',\n",
    "           'IMU_HAND_ORIENT_15',\n",
    "           'IMU_HAND_ORIENT_16',\n",
    "           'IMU_HAND_ORIENT_17',\n",
    "           'IMU_CHEST_TEMP_C',\n",
    "           'IMU_CHEST_16G_2',\n",
    "           'IMU_CHEST_16G_3',\n",
    "           'IMU_CHEST_16G_4',\n",
    "           'IMU_CHEST_6G_5',\n",
    "           'IMU_CHEST_6G_6',\n",
    "           'IMU_CHEST_6G_7',\n",
    "           'IMU_CHEST_GYRO_8',\n",
    "           'IMU_CHEST_GYRO_9',\n",
    "           'IMU_CHEST_GYRO_10',\n",
    "           'IMU_CHEST_MAG_11',\n",
    "           'IMU_CHEST_MAG_12',\n",
    "           'IMU_CHEST_MAG_13',\n",
    "           'IMU_CHEST_ORIENT_14',\n",
    "           'IMU_CHEST_ORIENT_15',\n",
    "           'IMU_CHEST_ORIENT_16',\n",
    "           'IMU_CHEST_ORIENT_17',\n",
    "           'IMU_ANKLE_TEMP_C',\n",
    "           'IMU_ANKLE_16G_2',\n",
    "           'IMU_ANKLE_16G_3',\n",
    "           'IMU_ANKLE_16G_4',\n",
    "           'IMU_ANKLE_6G_5',\n",
    "           'IMU_ANKLE_6G_6',\n",
    "           'IMU_ANKLE_6G_7',\n",
    "           'IMU_ANKLE_GYRO_8',\n",
    "           'IMU_ANKLE_GYRO_9',\n",
    "           'IMU_ANKLE_GYRO_10',\n",
    "           'IMU_ANKLE_MAG_11',\n",
    "           'IMU_ANKLE_MAG_12',\n",
    "           'IMU_ANKLE_MAG_13',\n",
    "           'IMU_ANKLE_ORIENT_14',\n",
    "           'IMU_ANKLE_ORIENT_15',\n",
    "           'IMU_ANKLE_ORIENT_16',\n",
    "           'IMU_ANKLE_ORIENT_17']"
   ]
  },
  {
   "cell_type": "code",
   "execution_count": 25,
   "metadata": {
    "collapsed": false
   },
   "outputs": [],
   "source": [
    "df = pd.read_csv('/home/pybokeh/Downloads/PAMAP2_Dataset/Protocol/subject101.dat', sep=' ', \n",
    "                 header=None, names=columns).query(\"activity_id != 0\")"
   ]
  },
  {
   "cell_type": "code",
   "execution_count": 26,
   "metadata": {
    "collapsed": false
   },
   "outputs": [
    {
     "data": {
      "text/html": [
       "<div>\n",
       "<table border=\"1\" class=\"dataframe\">\n",
       "  <thead>\n",
       "    <tr style=\"text-align: right;\">\n",
       "      <th></th>\n",
       "      <th>timestamp</th>\n",
       "      <th>activity_id</th>\n",
       "      <th>heart_rate</th>\n",
       "      <th>IMU_HAND_TEMP_C</th>\n",
       "      <th>IMU_HAND_16G_2</th>\n",
       "      <th>IMU_HAND_16G_3</th>\n",
       "      <th>IMU_HAND_16G_4</th>\n",
       "      <th>IMU_HAND_6G_5</th>\n",
       "      <th>IMU_HAND_6G_6</th>\n",
       "      <th>IMU_HAND_6G_7</th>\n",
       "      <th>...</th>\n",
       "      <th>IMU_ANKLE_GYRO_8</th>\n",
       "      <th>IMU_ANKLE_GYRO_9</th>\n",
       "      <th>IMU_ANKLE_GYRO_10</th>\n",
       "      <th>IMU_ANKLE_MAG_11</th>\n",
       "      <th>IMU_ANKLE_MAG_12</th>\n",
       "      <th>IMU_ANKLE_MAG_13</th>\n",
       "      <th>IMU_ANKLE_ORIENT_14</th>\n",
       "      <th>IMU_ANKLE_ORIENT_15</th>\n",
       "      <th>IMU_ANKLE_ORIENT_16</th>\n",
       "      <th>IMU_ANKLE_ORIENT_17</th>\n",
       "    </tr>\n",
       "  </thead>\n",
       "  <tbody>\n",
       "    <tr>\n",
       "      <th>2928</th>\n",
       "      <td>37.66</td>\n",
       "      <td>1</td>\n",
       "      <td>NaN</td>\n",
       "      <td>30.375</td>\n",
       "      <td>2.21530</td>\n",
       "      <td>8.27915</td>\n",
       "      <td>5.58753</td>\n",
       "      <td>2.24689</td>\n",
       "      <td>8.55387</td>\n",
       "      <td>5.77143</td>\n",
       "      <td>...</td>\n",
       "      <td>0.002908</td>\n",
       "      <td>-0.027714</td>\n",
       "      <td>0.001752</td>\n",
       "      <td>-61.1081</td>\n",
       "      <td>-36.8636</td>\n",
       "      <td>-58.3696</td>\n",
       "      <td>1.0</td>\n",
       "      <td>0.0</td>\n",
       "      <td>0.0</td>\n",
       "      <td>0.0</td>\n",
       "    </tr>\n",
       "    <tr>\n",
       "      <th>2929</th>\n",
       "      <td>37.67</td>\n",
       "      <td>1</td>\n",
       "      <td>NaN</td>\n",
       "      <td>30.375</td>\n",
       "      <td>2.29196</td>\n",
       "      <td>7.67288</td>\n",
       "      <td>5.74467</td>\n",
       "      <td>2.27373</td>\n",
       "      <td>8.14592</td>\n",
       "      <td>5.78739</td>\n",
       "      <td>...</td>\n",
       "      <td>0.020882</td>\n",
       "      <td>0.000945</td>\n",
       "      <td>0.006007</td>\n",
       "      <td>-60.8916</td>\n",
       "      <td>-36.3197</td>\n",
       "      <td>-58.3656</td>\n",
       "      <td>1.0</td>\n",
       "      <td>0.0</td>\n",
       "      <td>0.0</td>\n",
       "      <td>0.0</td>\n",
       "    </tr>\n",
       "    <tr>\n",
       "      <th>2930</th>\n",
       "      <td>37.68</td>\n",
       "      <td>1</td>\n",
       "      <td>NaN</td>\n",
       "      <td>30.375</td>\n",
       "      <td>2.29090</td>\n",
       "      <td>7.14240</td>\n",
       "      <td>5.82342</td>\n",
       "      <td>2.26966</td>\n",
       "      <td>7.66268</td>\n",
       "      <td>5.78846</td>\n",
       "      <td>...</td>\n",
       "      <td>-0.035392</td>\n",
       "      <td>-0.052422</td>\n",
       "      <td>-0.004882</td>\n",
       "      <td>-60.3407</td>\n",
       "      <td>-35.7842</td>\n",
       "      <td>-58.6119</td>\n",
       "      <td>1.0</td>\n",
       "      <td>0.0</td>\n",
       "      <td>0.0</td>\n",
       "      <td>0.0</td>\n",
       "    </tr>\n",
       "    <tr>\n",
       "      <th>2931</th>\n",
       "      <td>37.69</td>\n",
       "      <td>1</td>\n",
       "      <td>NaN</td>\n",
       "      <td>30.375</td>\n",
       "      <td>2.21800</td>\n",
       "      <td>7.14365</td>\n",
       "      <td>5.89930</td>\n",
       "      <td>2.22177</td>\n",
       "      <td>7.25535</td>\n",
       "      <td>5.88000</td>\n",
       "      <td>...</td>\n",
       "      <td>-0.032514</td>\n",
       "      <td>-0.018844</td>\n",
       "      <td>0.026950</td>\n",
       "      <td>-60.7646</td>\n",
       "      <td>-37.1028</td>\n",
       "      <td>-57.8799</td>\n",
       "      <td>1.0</td>\n",
       "      <td>0.0</td>\n",
       "      <td>0.0</td>\n",
       "      <td>0.0</td>\n",
       "    </tr>\n",
       "    <tr>\n",
       "      <th>2932</th>\n",
       "      <td>37.70</td>\n",
       "      <td>1</td>\n",
       "      <td>100.0</td>\n",
       "      <td>30.375</td>\n",
       "      <td>2.30106</td>\n",
       "      <td>7.25857</td>\n",
       "      <td>6.09259</td>\n",
       "      <td>2.20720</td>\n",
       "      <td>7.24042</td>\n",
       "      <td>5.95555</td>\n",
       "      <td>...</td>\n",
       "      <td>0.001351</td>\n",
       "      <td>-0.048878</td>\n",
       "      <td>-0.006328</td>\n",
       "      <td>-60.2040</td>\n",
       "      <td>-37.1225</td>\n",
       "      <td>-57.8847</td>\n",
       "      <td>1.0</td>\n",
       "      <td>0.0</td>\n",
       "      <td>0.0</td>\n",
       "      <td>0.0</td>\n",
       "    </tr>\n",
       "  </tbody>\n",
       "</table>\n",
       "<p>5 rows × 54 columns</p>\n",
       "</div>"
      ],
      "text/plain": [
       "      timestamp  activity_id  heart_rate  IMU_HAND_TEMP_C  IMU_HAND_16G_2  \\\n",
       "2928      37.66            1         NaN           30.375         2.21530   \n",
       "2929      37.67            1         NaN           30.375         2.29196   \n",
       "2930      37.68            1         NaN           30.375         2.29090   \n",
       "2931      37.69            1         NaN           30.375         2.21800   \n",
       "2932      37.70            1       100.0           30.375         2.30106   \n",
       "\n",
       "      IMU_HAND_16G_3  IMU_HAND_16G_4  IMU_HAND_6G_5  IMU_HAND_6G_6  \\\n",
       "2928         8.27915         5.58753        2.24689        8.55387   \n",
       "2929         7.67288         5.74467        2.27373        8.14592   \n",
       "2930         7.14240         5.82342        2.26966        7.66268   \n",
       "2931         7.14365         5.89930        2.22177        7.25535   \n",
       "2932         7.25857         6.09259        2.20720        7.24042   \n",
       "\n",
       "      IMU_HAND_6G_7         ...           IMU_ANKLE_GYRO_8  IMU_ANKLE_GYRO_9  \\\n",
       "2928        5.77143         ...                   0.002908         -0.027714   \n",
       "2929        5.78739         ...                   0.020882          0.000945   \n",
       "2930        5.78846         ...                  -0.035392         -0.052422   \n",
       "2931        5.88000         ...                  -0.032514         -0.018844   \n",
       "2932        5.95555         ...                   0.001351         -0.048878   \n",
       "\n",
       "      IMU_ANKLE_GYRO_10  IMU_ANKLE_MAG_11  IMU_ANKLE_MAG_12  IMU_ANKLE_MAG_13  \\\n",
       "2928           0.001752          -61.1081          -36.8636          -58.3696   \n",
       "2929           0.006007          -60.8916          -36.3197          -58.3656   \n",
       "2930          -0.004882          -60.3407          -35.7842          -58.6119   \n",
       "2931           0.026950          -60.7646          -37.1028          -57.8799   \n",
       "2932          -0.006328          -60.2040          -37.1225          -57.8847   \n",
       "\n",
       "      IMU_ANKLE_ORIENT_14  IMU_ANKLE_ORIENT_15  IMU_ANKLE_ORIENT_16  \\\n",
       "2928                  1.0                  0.0                  0.0   \n",
       "2929                  1.0                  0.0                  0.0   \n",
       "2930                  1.0                  0.0                  0.0   \n",
       "2931                  1.0                  0.0                  0.0   \n",
       "2932                  1.0                  0.0                  0.0   \n",
       "\n",
       "      IMU_ANKLE_ORIENT_17  \n",
       "2928                  0.0  \n",
       "2929                  0.0  \n",
       "2930                  0.0  \n",
       "2931                  0.0  \n",
       "2932                  0.0  \n",
       "\n",
       "[5 rows x 54 columns]"
      ]
     },
     "execution_count": 26,
     "metadata": {},
     "output_type": "execute_result"
    }
   ],
   "source": [
    "df.head()"
   ]
  },
  {
   "cell_type": "markdown",
   "metadata": {},
   "source": [
    "Let's make a column called \"activity\" from the activity id to make it easier to summarize our data."
   ]
  },
  {
   "cell_type": "code",
   "execution_count": 31,
   "metadata": {
    "collapsed": false
   },
   "outputs": [],
   "source": [
    "id_to_activity = {0: 'other',\n",
    "                  1: 'lying',\n",
    "                  2: 'sitting',\n",
    "                  3: 'standing',\n",
    "                  4: 'walking',\n",
    "                  5: 'running',\n",
    "                  6: 'cycling',\n",
    "                  7: 'Nordic walking',\n",
    "                  9: 'watching TV',\n",
    "                  10: 'computer work',\n",
    "                  11: 'car driving',\n",
    "                  12: 'ascending stairs',\n",
    "                  13: 'descending stairs',\n",
    "                  16: 'vacuum cleaning',\n",
    "                  17: 'ironing',\n",
    "                  18: 'folding laundry',\n",
    "                  19: 'house cleaning',\n",
    "                  20: 'playing soccer',\n",
    "                  24: 'rope jumping'}"
   ]
  },
  {
   "cell_type": "code",
   "execution_count": 32,
   "metadata": {
    "collapsed": false
   },
   "outputs": [],
   "source": [
    "df['activity'] = df.activity_id.map(id_to_activity)"
   ]
  },
  {
   "cell_type": "code",
   "execution_count": 33,
   "metadata": {
    "collapsed": false
   },
   "outputs": [
    {
     "data": {
      "text/html": [
       "<div>\n",
       "<table border=\"1\" class=\"dataframe\">\n",
       "  <thead>\n",
       "    <tr style=\"text-align: right;\">\n",
       "      <th></th>\n",
       "      <th>timestamp</th>\n",
       "      <th>activity_id</th>\n",
       "      <th>heart_rate</th>\n",
       "      <th>IMU_HAND_TEMP_C</th>\n",
       "      <th>IMU_HAND_16G_2</th>\n",
       "      <th>IMU_HAND_16G_3</th>\n",
       "      <th>IMU_HAND_16G_4</th>\n",
       "      <th>IMU_HAND_6G_5</th>\n",
       "      <th>IMU_HAND_6G_6</th>\n",
       "      <th>IMU_HAND_6G_7</th>\n",
       "      <th>...</th>\n",
       "      <th>IMU_ANKLE_GYRO_9</th>\n",
       "      <th>IMU_ANKLE_GYRO_10</th>\n",
       "      <th>IMU_ANKLE_MAG_11</th>\n",
       "      <th>IMU_ANKLE_MAG_12</th>\n",
       "      <th>IMU_ANKLE_MAG_13</th>\n",
       "      <th>IMU_ANKLE_ORIENT_14</th>\n",
       "      <th>IMU_ANKLE_ORIENT_15</th>\n",
       "      <th>IMU_ANKLE_ORIENT_16</th>\n",
       "      <th>IMU_ANKLE_ORIENT_17</th>\n",
       "      <th>activity</th>\n",
       "    </tr>\n",
       "  </thead>\n",
       "  <tbody>\n",
       "    <tr>\n",
       "      <th>2928</th>\n",
       "      <td>37.66</td>\n",
       "      <td>1</td>\n",
       "      <td>NaN</td>\n",
       "      <td>30.375</td>\n",
       "      <td>2.21530</td>\n",
       "      <td>8.27915</td>\n",
       "      <td>5.58753</td>\n",
       "      <td>2.24689</td>\n",
       "      <td>8.55387</td>\n",
       "      <td>5.77143</td>\n",
       "      <td>...</td>\n",
       "      <td>-0.027714</td>\n",
       "      <td>0.001752</td>\n",
       "      <td>-61.1081</td>\n",
       "      <td>-36.8636</td>\n",
       "      <td>-58.3696</td>\n",
       "      <td>1.0</td>\n",
       "      <td>0.0</td>\n",
       "      <td>0.0</td>\n",
       "      <td>0.0</td>\n",
       "      <td>lying</td>\n",
       "    </tr>\n",
       "    <tr>\n",
       "      <th>2929</th>\n",
       "      <td>37.67</td>\n",
       "      <td>1</td>\n",
       "      <td>NaN</td>\n",
       "      <td>30.375</td>\n",
       "      <td>2.29196</td>\n",
       "      <td>7.67288</td>\n",
       "      <td>5.74467</td>\n",
       "      <td>2.27373</td>\n",
       "      <td>8.14592</td>\n",
       "      <td>5.78739</td>\n",
       "      <td>...</td>\n",
       "      <td>0.000945</td>\n",
       "      <td>0.006007</td>\n",
       "      <td>-60.8916</td>\n",
       "      <td>-36.3197</td>\n",
       "      <td>-58.3656</td>\n",
       "      <td>1.0</td>\n",
       "      <td>0.0</td>\n",
       "      <td>0.0</td>\n",
       "      <td>0.0</td>\n",
       "      <td>lying</td>\n",
       "    </tr>\n",
       "    <tr>\n",
       "      <th>2930</th>\n",
       "      <td>37.68</td>\n",
       "      <td>1</td>\n",
       "      <td>NaN</td>\n",
       "      <td>30.375</td>\n",
       "      <td>2.29090</td>\n",
       "      <td>7.14240</td>\n",
       "      <td>5.82342</td>\n",
       "      <td>2.26966</td>\n",
       "      <td>7.66268</td>\n",
       "      <td>5.78846</td>\n",
       "      <td>...</td>\n",
       "      <td>-0.052422</td>\n",
       "      <td>-0.004882</td>\n",
       "      <td>-60.3407</td>\n",
       "      <td>-35.7842</td>\n",
       "      <td>-58.6119</td>\n",
       "      <td>1.0</td>\n",
       "      <td>0.0</td>\n",
       "      <td>0.0</td>\n",
       "      <td>0.0</td>\n",
       "      <td>lying</td>\n",
       "    </tr>\n",
       "    <tr>\n",
       "      <th>2931</th>\n",
       "      <td>37.69</td>\n",
       "      <td>1</td>\n",
       "      <td>NaN</td>\n",
       "      <td>30.375</td>\n",
       "      <td>2.21800</td>\n",
       "      <td>7.14365</td>\n",
       "      <td>5.89930</td>\n",
       "      <td>2.22177</td>\n",
       "      <td>7.25535</td>\n",
       "      <td>5.88000</td>\n",
       "      <td>...</td>\n",
       "      <td>-0.018844</td>\n",
       "      <td>0.026950</td>\n",
       "      <td>-60.7646</td>\n",
       "      <td>-37.1028</td>\n",
       "      <td>-57.8799</td>\n",
       "      <td>1.0</td>\n",
       "      <td>0.0</td>\n",
       "      <td>0.0</td>\n",
       "      <td>0.0</td>\n",
       "      <td>lying</td>\n",
       "    </tr>\n",
       "    <tr>\n",
       "      <th>2932</th>\n",
       "      <td>37.70</td>\n",
       "      <td>1</td>\n",
       "      <td>100.0</td>\n",
       "      <td>30.375</td>\n",
       "      <td>2.30106</td>\n",
       "      <td>7.25857</td>\n",
       "      <td>6.09259</td>\n",
       "      <td>2.20720</td>\n",
       "      <td>7.24042</td>\n",
       "      <td>5.95555</td>\n",
       "      <td>...</td>\n",
       "      <td>-0.048878</td>\n",
       "      <td>-0.006328</td>\n",
       "      <td>-60.2040</td>\n",
       "      <td>-37.1225</td>\n",
       "      <td>-57.8847</td>\n",
       "      <td>1.0</td>\n",
       "      <td>0.0</td>\n",
       "      <td>0.0</td>\n",
       "      <td>0.0</td>\n",
       "      <td>lying</td>\n",
       "    </tr>\n",
       "  </tbody>\n",
       "</table>\n",
       "<p>5 rows × 55 columns</p>\n",
       "</div>"
      ],
      "text/plain": [
       "      timestamp  activity_id  heart_rate  IMU_HAND_TEMP_C  IMU_HAND_16G_2  \\\n",
       "2928      37.66            1         NaN           30.375         2.21530   \n",
       "2929      37.67            1         NaN           30.375         2.29196   \n",
       "2930      37.68            1         NaN           30.375         2.29090   \n",
       "2931      37.69            1         NaN           30.375         2.21800   \n",
       "2932      37.70            1       100.0           30.375         2.30106   \n",
       "\n",
       "      IMU_HAND_16G_3  IMU_HAND_16G_4  IMU_HAND_6G_5  IMU_HAND_6G_6  \\\n",
       "2928         8.27915         5.58753        2.24689        8.55387   \n",
       "2929         7.67288         5.74467        2.27373        8.14592   \n",
       "2930         7.14240         5.82342        2.26966        7.66268   \n",
       "2931         7.14365         5.89930        2.22177        7.25535   \n",
       "2932         7.25857         6.09259        2.20720        7.24042   \n",
       "\n",
       "      IMU_HAND_6G_7    ...     IMU_ANKLE_GYRO_9  IMU_ANKLE_GYRO_10  \\\n",
       "2928        5.77143    ...            -0.027714           0.001752   \n",
       "2929        5.78739    ...             0.000945           0.006007   \n",
       "2930        5.78846    ...            -0.052422          -0.004882   \n",
       "2931        5.88000    ...            -0.018844           0.026950   \n",
       "2932        5.95555    ...            -0.048878          -0.006328   \n",
       "\n",
       "      IMU_ANKLE_MAG_11  IMU_ANKLE_MAG_12  IMU_ANKLE_MAG_13  \\\n",
       "2928          -61.1081          -36.8636          -58.3696   \n",
       "2929          -60.8916          -36.3197          -58.3656   \n",
       "2930          -60.3407          -35.7842          -58.6119   \n",
       "2931          -60.7646          -37.1028          -57.8799   \n",
       "2932          -60.2040          -37.1225          -57.8847   \n",
       "\n",
       "      IMU_ANKLE_ORIENT_14  IMU_ANKLE_ORIENT_15  IMU_ANKLE_ORIENT_16  \\\n",
       "2928                  1.0                  0.0                  0.0   \n",
       "2929                  1.0                  0.0                  0.0   \n",
       "2930                  1.0                  0.0                  0.0   \n",
       "2931                  1.0                  0.0                  0.0   \n",
       "2932                  1.0                  0.0                  0.0   \n",
       "\n",
       "      IMU_ANKLE_ORIENT_17  activity  \n",
       "2928                  0.0     lying  \n",
       "2929                  0.0     lying  \n",
       "2930                  0.0     lying  \n",
       "2931                  0.0     lying  \n",
       "2932                  0.0     lying  \n",
       "\n",
       "[5 rows x 55 columns]"
      ]
     },
     "execution_count": 33,
     "metadata": {},
     "output_type": "execute_result"
    }
   ],
   "source": [
    "df.head()"
   ]
  },
  {
   "cell_type": "markdown",
   "metadata": {},
   "source": [
    "The web site did warn us there would be missing/NaN values.  So let's see which colummns contain missing data:"
   ]
  },
  {
   "cell_type": "code",
   "execution_count": 36,
   "metadata": {
    "collapsed": false
   },
   "outputs": [
    {
     "data": {
      "text/plain": [
       "timestamp              False\n",
       "activity_id            False\n",
       "heart_rate              True\n",
       "IMU_HAND_TEMP_C         True\n",
       "IMU_HAND_16G_2          True\n",
       "IMU_HAND_16G_3          True\n",
       "IMU_HAND_16G_4          True\n",
       "IMU_HAND_6G_5           True\n",
       "IMU_HAND_6G_6           True\n",
       "IMU_HAND_6G_7           True\n",
       "IMU_HAND_GYRO_8         True\n",
       "IMU_HAND_GYRO_9         True\n",
       "IMU_HAND_GYRO_10        True\n",
       "IMU_HAND_MAG_11         True\n",
       "IMU_HAND_MAG_12         True\n",
       "IMU_HAND_MAG_13         True\n",
       "IMU_HAND_ORIENT_14      True\n",
       "IMU_HAND_ORIENT_15      True\n",
       "IMU_HAND_ORIENT_16      True\n",
       "IMU_HAND_ORIENT_17      True\n",
       "IMU_CHEST_TEMP_C        True\n",
       "IMU_CHEST_16G_2         True\n",
       "IMU_CHEST_16G_3         True\n",
       "IMU_CHEST_16G_4         True\n",
       "IMU_CHEST_6G_5          True\n",
       "IMU_CHEST_6G_6          True\n",
       "IMU_CHEST_6G_7          True\n",
       "IMU_CHEST_GYRO_8        True\n",
       "IMU_CHEST_GYRO_9        True\n",
       "IMU_CHEST_GYRO_10       True\n",
       "IMU_CHEST_MAG_11        True\n",
       "IMU_CHEST_MAG_12        True\n",
       "IMU_CHEST_MAG_13        True\n",
       "IMU_CHEST_ORIENT_14     True\n",
       "IMU_CHEST_ORIENT_15     True\n",
       "IMU_CHEST_ORIENT_16     True\n",
       "IMU_CHEST_ORIENT_17     True\n",
       "IMU_ANKLE_TEMP_C        True\n",
       "IMU_ANKLE_16G_2         True\n",
       "IMU_ANKLE_16G_3         True\n",
       "IMU_ANKLE_16G_4         True\n",
       "IMU_ANKLE_6G_5          True\n",
       "IMU_ANKLE_6G_6          True\n",
       "IMU_ANKLE_6G_7          True\n",
       "IMU_ANKLE_GYRO_8        True\n",
       "IMU_ANKLE_GYRO_9        True\n",
       "IMU_ANKLE_GYRO_10       True\n",
       "IMU_ANKLE_MAG_11        True\n",
       "IMU_ANKLE_MAG_12        True\n",
       "IMU_ANKLE_MAG_13        True\n",
       "IMU_ANKLE_ORIENT_14     True\n",
       "IMU_ANKLE_ORIENT_15     True\n",
       "IMU_ANKLE_ORIENT_16     True\n",
       "IMU_ANKLE_ORIENT_17     True\n",
       "activity               False\n",
       "dtype: bool"
      ]
     },
     "execution_count": 36,
     "metadata": {},
     "output_type": "execute_result"
    }
   ],
   "source": [
    "df.isnull().any()"
   ]
  },
  {
   "cell_type": "code",
   "execution_count": 37,
   "metadata": {
    "collapsed": false
   },
   "outputs": [
    {
     "data": {
      "text/plain": [
       "(249957, 55)"
      ]
     },
     "execution_count": 37,
     "metadata": {},
     "output_type": "execute_result"
    }
   ],
   "source": [
    "df.shape"
   ]
  },
  {
   "cell_type": "markdown",
   "metadata": {},
   "source": [
    "Let's drop all rows with missing data:"
   ]
  },
  {
   "cell_type": "code",
   "execution_count": 40,
   "metadata": {
    "collapsed": false
   },
   "outputs": [
    {
     "data": {
      "text/plain": [
       "(22590, 55)"
      ]
     },
     "execution_count": 40,
     "metadata": {},
     "output_type": "execute_result"
    }
   ],
   "source": [
    "df.dropna(inplace=True)\n",
    "df.shape"
   ]
  },
  {
   "cell_type": "markdown",
   "metadata": {},
   "source": [
    "As a sanity check, let's see if our data is \"correct\" or makes sense.  Let's make a boxplot of the heart rate by activity:"
   ]
  },
  {
   "cell_type": "code",
   "execution_count": 69,
   "metadata": {
    "collapsed": false
   },
   "outputs": [
    {
     "data": {
      "image/png": "[encoded data removed]",
      "text/plain": [
       "<matplotlib.figure.Figure at 0x7fc020cd77b8>"
      ]
     },
     "metadata": {},
     "output_type": "display_data"
    }
   ],
   "source": [
    "df.boxplot(column='heart_rate', by='activity')\n",
    "plt.xticks(rotation=-90)\n",
    "sns.despine()\n",
    "plt.show()"
   ]
  },
  {
   "cell_type": "markdown",
   "metadata": {},
   "source": [
    "It appears are data is correct since it makes sense that the heart rate is lowest with an activity such as lying down and higher with more strenuous activity such as running or rope jumping."
   ]
  }
 ],
 "metadata": {
  "hide_input": false,
  "kernelspec": {
   "display_name": "Python 3",
   "language": "python",
   "name": "python3"
  },
  "language_info": {
   "codemirror_mode": {
    "name": "ipython",
    "version": 3
   },
   "file_extension": ".py",
   "mimetype": "text/x-python",
   "name": "python",
   "nbconvert_exporter": "python",
   "pygments_lexer": "ipython3",
   "version": "3.5.1"
  }
 },
 "nbformat": 4,
 "nbformat_minor": 1
}
