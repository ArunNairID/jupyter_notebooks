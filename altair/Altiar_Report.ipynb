{
 "cells": [
  {
   "cell_type": "markdown",
   "metadata": {
    "run_control": {
     "read_only": false
    }
   },
   "source": [
    "<p><strong>Supplier: </strong>ABC Corp #12345&nbsp;&nbsp;&nbsp;&nbsp;&nbsp;&nbsp;&nbsp;&nbsp;&nbsp;&nbsp;&nbsp;&nbsp;&nbsp;&nbsp;&nbsp;&nbsp;&nbsp;&nbsp;&nbsp;&nbsp;&nbsp;&nbsp;&nbsp;&nbsp;&nbsp;&nbsp;&nbsp;&nbsp;&nbsp;&nbsp;&nbsp;&nbsp;&nbsp;&nbsp;&nbsp;&nbsp;&nbsp;&nbsp;&nbsp;&nbsp;&nbsp;&nbsp;&nbsp;&nbsp;&nbsp;&nbsp;&nbsp;&nbsp;&nbsp;&nbsp;&nbsp;&nbsp;&nbsp;&nbsp;&nbsp;&nbsp;&nbsp;&nbsp;&nbsp;&nbsp;&nbsp;&nbsp;&nbsp;&nbsp;&nbsp;&nbsp;&nbsp;&nbsp;&nbsp;&nbsp;&nbsp;&nbsp;&nbsp;&nbsp;&nbsp;&nbsp;&nbsp;&nbsp;&nbsp;&nbsp;&nbsp;&nbsp;&nbsp;&nbsp;&nbsp;&nbsp;&nbsp;&nbsp;&nbsp;&nbsp;&nbsp;&nbsp;&nbsp;&nbsp;&nbsp;&nbsp;&nbsp;&nbsp;&nbsp;&nbsp;&nbsp;&nbsp;&nbsp;&nbsp;&nbsp;&nbsp;&nbsp;&nbsp;&nbsp;&nbsp;&nbsp;&nbsp;&nbsp;&nbsp;&nbsp;&nbsp;&nbsp;&nbsp;&nbsp;&nbsp;&nbsp;&nbsp;&nbsp;&nbsp;&nbsp;&nbsp;&nbsp;&nbsp;&nbsp;&nbsp;&nbsp;&nbsp;<strong>QIS # </strong>Control # 1234"
   ]
  },
  {
   "cell_type": "code",
   "execution_count": 1,
   "metadata": {
    "collapsed": false
   },
   "outputs": [
    {
     "data": {
      "text/html": [
       "<script>\n",
       "code_show=true; \n",
       "function code_toggle() {\n",
       " if (code_show){\n",
       " $('div.input').hide();\n",
       " } else {\n",
       " $('div.input').show();\n",
       " }\n",
       " code_show = !code_show\n",
       "} \n",
       "$( document ).ready(code_toggle);\n",
       "</script>\n",
       "<strong>Click </strong><a href=\"javascript:code_toggle()\"><strong>here</strong></a> to hide/unhide code used to generate the plots."
      ],
      "text/plain": [
       "<IPython.core.display.HTML object>"
      ]
     },
     "execution_count": 1,
     "metadata": {},
     "output_type": "execute_result"
    }
   ],
   "source": [
    "from IPython.display import HTML\n",
    "HTML('''<script>\n",
    "code_show=true; \n",
    "function code_toggle() {\n",
    " if (code_show){\n",
    " $('div.input').hide();\n",
    " } else {\n",
    " $('div.input').show();\n",
    " }\n",
    " code_show = !code_show\n",
    "} \n",
    "$( document ).ready(code_toggle);\n",
    "</script>\n",
    "<strong>Click </strong><a href=\"javascript:code_toggle()\"><strong>here</strong></a> to hide/unhide code used to generate the plots.''')"
   ]
  },
  {
   "cell_type": "markdown",
   "metadata": {},
   "source": [
    "<center><h1>Model XXX System Damaged</h1></center>\n",
    "<center><h3>Created by John Doe</h3></center>\n",
    "<center><h3>9/28/20</h3></center>"
   ]
  },
  {
   "cell_type": "markdown",
   "metadata": {},
   "source": [
    "### Affected Vehicles / Trim Levels / Failed Part Numbers:"
   ]
  },
  {
   "cell_type": "markdown",
   "metadata": {},
   "source": [
    "- 2012 through 2016 Model XXX, all trim levels, part # 12345"
   ]
  },
  {
   "cell_type": "markdown",
   "metadata": {},
   "source": [
    "### Market Problem Description / Dealer Repair Method:"
   ]
  },
  {
   "cell_type": "markdown",
   "metadata": {},
   "source": [
    "Customers experience..."
   ]
  },
  {
   "cell_type": "markdown",
   "metadata": {},
   "source": [
    "### Root Cause:"
   ]
  },
  {
   "cell_type": "markdown",
   "metadata": {},
   "source": [
    "Supplier messed up."
   ]
  },
  {
   "cell_type": "markdown",
   "metadata": {},
   "source": [
    "### Countermeasure Activity:"
   ]
  },
  {
   "cell_type": "markdown",
   "metadata": {},
   "source": [
    "- C/M #1 implemented:\n",
    "    - Supplier fixed problem"
   ]
  },
  {
   "cell_type": "markdown",
   "metadata": {},
   "source": [
    "### Warranty Summary:"
   ]
  },
  {
   "cell_type": "code",
   "execution_count": 2,
   "metadata": {
    "collapsed": true
   },
   "outputs": [],
   "source": [
    "from altair import *"
   ]
  },
  {
   "cell_type": "code",
   "execution_count": 95,
   "metadata": {
    "collapsed": true
   },
   "outputs": [],
   "source": [
    "import pandas as pd\n",
    "import numpy as np\n",
    "\n",
    "df = pd.read_clipboard()\n",
    "df.reset_index(level=0, inplace=True)\n",
    "\n",
    "# To use Altair, data must be in long format\n",
    "data = pd.melt(df, id_vars=['index']).dropna()\n",
    "data.value = data.value.map(lambda x: x.replace('%','')).astype(np.float)\n",
    "data.columns = ['MFSS','MODEL_YR','DEFECT_RATE']"
   ]
  },
  {
   "cell_type": "markdown",
   "metadata": {},
   "source": [
    "**Cumulative Defect Rate vs Months Since Start of Sales (MFSS)**"
   ]
  },
  {
   "cell_type": "code",
   "execution_count": 108,
   "metadata": {
    "collapsed": false
   },
   "outputs": [
    {
     "data": {
      "text/html": [
       "<div class=\"vega-embed\" id=\"e035f60b-4ff1-4f71-9d30-44bf16df9371\"></div>\n",
       "\n",
       "<style>\n",
       ".vega-embed svg, .vega-embed canvas {\n",
       "  border: 1px dotted gray;\n",
       "}\n",
       "\n",
       ".vega-embed .vega-actions a {\n",
       "  margin-right: 6px;\n",
       "}\n",
       "</style>\n"
      ]
     },
     "metadata": {
      "jupyter-vega": "#e035f60b-4ff1-4f71-9d30-44bf16df9371"
     },
     "output_type": "display_data"
    },
    {
     "data": {
      "application/javascript": [
       "var spec = {\"encoding\": {\"color\": {\"type\": \"nominal\", \"field\": \"MODEL_YR\"}, \"x\": {\"type\": \"quantitative\", \"field\": \"MFSS\"}, \"y\": {\"type\": \"quantitative\", \"field\": \"DEFECT_RATE\", \"axis\": {\"format\": \".2f\", \"title\": \"Defect Rate (%)\"}}}, \"mark\": \"line\", \"config\": {\"cell\": {\"width\": 500, \"height\": 350}}, \"data\": {\"values\": [{\"MFSS\": 0, \"MODEL_YR\": \"2012\", \"DEFECT_RATE\": 0.0}, {\"MFSS\": 1, \"MODEL_YR\": \"2012\", \"DEFECT_RATE\": 0.0}, {\"MFSS\": 2, \"MODEL_YR\": \"2012\", \"DEFECT_RATE\": 0.0}, {\"MFSS\": 3, \"MODEL_YR\": \"2012\", \"DEFECT_RATE\": 0.0}, {\"MFSS\": 4, \"MODEL_YR\": \"2012\", \"DEFECT_RATE\": 0.0}, {\"MFSS\": 5, \"MODEL_YR\": \"2012\", \"DEFECT_RATE\": 0.0}, {\"MFSS\": 6, \"MODEL_YR\": \"2012\", \"DEFECT_RATE\": 0.0}, {\"MFSS\": 7, \"MODEL_YR\": \"2012\", \"DEFECT_RATE\": 0.0}, {\"MFSS\": 8, \"MODEL_YR\": \"2012\", \"DEFECT_RATE\": 0.0}, {\"MFSS\": 9, \"MODEL_YR\": \"2012\", \"DEFECT_RATE\": 0.003}, {\"MFSS\": 10, \"MODEL_YR\": \"2012\", \"DEFECT_RATE\": 0.002}, {\"MFSS\": 11, \"MODEL_YR\": \"2012\", \"DEFECT_RATE\": 0.002}, {\"MFSS\": 12, \"MODEL_YR\": \"2012\", \"DEFECT_RATE\": 0.002}, {\"MFSS\": 13, \"MODEL_YR\": \"2012\", \"DEFECT_RATE\": 0.002}, {\"MFSS\": 14, \"MODEL_YR\": \"2012\", \"DEFECT_RATE\": 0.002}, {\"MFSS\": 15, \"MODEL_YR\": \"2012\", \"DEFECT_RATE\": 0.004}, {\"MFSS\": 16, \"MODEL_YR\": \"2012\", \"DEFECT_RATE\": 0.006}, {\"MFSS\": 17, \"MODEL_YR\": \"2012\", \"DEFECT_RATE\": 0.006}, {\"MFSS\": 18, \"MODEL_YR\": \"2012\", \"DEFECT_RATE\": 0.006}, {\"MFSS\": 19, \"MODEL_YR\": \"2012\", \"DEFECT_RATE\": 0.007}, {\"MFSS\": 20, \"MODEL_YR\": \"2012\", \"DEFECT_RATE\": 0.009}, {\"MFSS\": 21, \"MODEL_YR\": \"2012\", \"DEFECT_RATE\": 0.011}, {\"MFSS\": 22, \"MODEL_YR\": \"2012\", \"DEFECT_RATE\": 0.015}, {\"MFSS\": 23, \"MODEL_YR\": \"2012\", \"DEFECT_RATE\": 0.015}, {\"MFSS\": 24, \"MODEL_YR\": \"2012\", \"DEFECT_RATE\": 0.015}, {\"MFSS\": 25, \"MODEL_YR\": \"2012\", \"DEFECT_RATE\": 0.016}, {\"MFSS\": 26, \"MODEL_YR\": \"2012\", \"DEFECT_RATE\": 0.016}, {\"MFSS\": 27, \"MODEL_YR\": \"2012\", \"DEFECT_RATE\": 0.025}, {\"MFSS\": 28, \"MODEL_YR\": \"2012\", \"DEFECT_RATE\": 0.027}, {\"MFSS\": 29, \"MODEL_YR\": \"2012\", \"DEFECT_RATE\": 0.029}, {\"MFSS\": 30, \"MODEL_YR\": \"2012\", \"DEFECT_RATE\": 0.029}, {\"MFSS\": 31, \"MODEL_YR\": \"2012\", \"DEFECT_RATE\": 0.031}, {\"MFSS\": 32, \"MODEL_YR\": \"2012\", \"DEFECT_RATE\": 0.031}, {\"MFSS\": 33, \"MODEL_YR\": \"2012\", \"DEFECT_RATE\": 0.033}, {\"MFSS\": 34, \"MODEL_YR\": \"2012\", \"DEFECT_RATE\": 0.035}, {\"MFSS\": 35, \"MODEL_YR\": \"2012\", \"DEFECT_RATE\": 0.036}, {\"MFSS\": 36, \"MODEL_YR\": \"2012\", \"DEFECT_RATE\": 0.036}, {\"MFSS\": 37, \"MODEL_YR\": \"2012\", \"DEFECT_RATE\": 0.036}, {\"MFSS\": 38, \"MODEL_YR\": \"2012\", \"DEFECT_RATE\": 0.036}, {\"MFSS\": 39, \"MODEL_YR\": \"2012\", \"DEFECT_RATE\": 0.038}, {\"MFSS\": 40, \"MODEL_YR\": \"2012\", \"DEFECT_RATE\": 0.038}, {\"MFSS\": 41, \"MODEL_YR\": \"2012\", \"DEFECT_RATE\": 0.038}, {\"MFSS\": 42, \"MODEL_YR\": \"2012\", \"DEFECT_RATE\": 0.038}, {\"MFSS\": 43, \"MODEL_YR\": \"2012\", \"DEFECT_RATE\": 0.038}, {\"MFSS\": 44, \"MODEL_YR\": \"2012\", \"DEFECT_RATE\": 0.04}, {\"MFSS\": 45, \"MODEL_YR\": \"2012\", \"DEFECT_RATE\": 0.04}, {\"MFSS\": 46, \"MODEL_YR\": \"2012\", \"DEFECT_RATE\": 0.04}, {\"MFSS\": 47, \"MODEL_YR\": \"2012\", \"DEFECT_RATE\": 0.04}, {\"MFSS\": 48, \"MODEL_YR\": \"2012\", \"DEFECT_RATE\": 0.04}, {\"MFSS\": 49, \"MODEL_YR\": \"2012\", \"DEFECT_RATE\": 0.04}, {\"MFSS\": 50, \"MODEL_YR\": \"2012\", \"DEFECT_RATE\": 0.04}, {\"MFSS\": 51, \"MODEL_YR\": \"2012\", \"DEFECT_RATE\": 0.04}, {\"MFSS\": 52, \"MODEL_YR\": \"2012\", \"DEFECT_RATE\": 0.04}, {\"MFSS\": 53, \"MODEL_YR\": \"2012\", \"DEFECT_RATE\": 0.04}, {\"MFSS\": 54, \"MODEL_YR\": \"2012\", \"DEFECT_RATE\": 0.04}, {\"MFSS\": 55, \"MODEL_YR\": \"2012\", \"DEFECT_RATE\": 0.042}, {\"MFSS\": 56, \"MODEL_YR\": \"2012\", \"DEFECT_RATE\": 0.044}, {\"MFSS\": 57, \"MODEL_YR\": \"2012\", \"DEFECT_RATE\": 0.045}, {\"MFSS\": 58, \"MODEL_YR\": \"2012\", \"DEFECT_RATE\": 0.045}, {\"MFSS\": 59, \"MODEL_YR\": \"2012\", \"DEFECT_RATE\": 0.045}, {\"MFSS\": 0, \"MODEL_YR\": \"2013\", \"DEFECT_RATE\": 0.0}, {\"MFSS\": 1, \"MODEL_YR\": \"2013\", \"DEFECT_RATE\": 0.0}, {\"MFSS\": 2, \"MODEL_YR\": \"2013\", \"DEFECT_RATE\": 0.0}, {\"MFSS\": 3, \"MODEL_YR\": \"2013\", \"DEFECT_RATE\": 0.0}, {\"MFSS\": 4, \"MODEL_YR\": \"2013\", \"DEFECT_RATE\": 0.006}, {\"MFSS\": 5, \"MODEL_YR\": \"2013\", \"DEFECT_RATE\": 0.005}, {\"MFSS\": 6, \"MODEL_YR\": \"2013\", \"DEFECT_RATE\": 0.004}, {\"MFSS\": 7, \"MODEL_YR\": \"2013\", \"DEFECT_RATE\": 0.003}, {\"MFSS\": 8, \"MODEL_YR\": \"2013\", \"DEFECT_RATE\": 0.003}, {\"MFSS\": 9, \"MODEL_YR\": \"2013\", \"DEFECT_RATE\": 0.003}, {\"MFSS\": 10, \"MODEL_YR\": \"2013\", \"DEFECT_RATE\": 0.002}, {\"MFSS\": 11, \"MODEL_YR\": \"2013\", \"DEFECT_RATE\": 0.006}, {\"MFSS\": 12, \"MODEL_YR\": \"2013\", \"DEFECT_RATE\": 0.005}, {\"MFSS\": 13, \"MODEL_YR\": \"2013\", \"DEFECT_RATE\": 0.006}, {\"MFSS\": 14, \"MODEL_YR\": \"2013\", \"DEFECT_RATE\": 0.006}, {\"MFSS\": 15, \"MODEL_YR\": \"2013\", \"DEFECT_RATE\": 0.007}, {\"MFSS\": 16, \"MODEL_YR\": \"2013\", \"DEFECT_RATE\": 0.006}, {\"MFSS\": 17, \"MODEL_YR\": \"2013\", \"DEFECT_RATE\": 0.007}, {\"MFSS\": 18, \"MODEL_YR\": \"2013\", \"DEFECT_RATE\": 0.008}, {\"MFSS\": 19, \"MODEL_YR\": \"2013\", \"DEFECT_RATE\": 0.008}, {\"MFSS\": 20, \"MODEL_YR\": \"2013\", \"DEFECT_RATE\": 0.009}, {\"MFSS\": 21, \"MODEL_YR\": \"2013\", \"DEFECT_RATE\": 0.008}, {\"MFSS\": 22, \"MODEL_YR\": \"2013\", \"DEFECT_RATE\": 0.01}, {\"MFSS\": 23, \"MODEL_YR\": \"2013\", \"DEFECT_RATE\": 0.012}, {\"MFSS\": 24, \"MODEL_YR\": \"2013\", \"DEFECT_RATE\": 0.013}, {\"MFSS\": 25, \"MODEL_YR\": \"2013\", \"DEFECT_RATE\": 0.013}, {\"MFSS\": 26, \"MODEL_YR\": \"2013\", \"DEFECT_RATE\": 0.013}, {\"MFSS\": 27, \"MODEL_YR\": \"2013\", \"DEFECT_RATE\": 0.013}, {\"MFSS\": 28, \"MODEL_YR\": \"2013\", \"DEFECT_RATE\": 0.014}, {\"MFSS\": 29, \"MODEL_YR\": \"2013\", \"DEFECT_RATE\": 0.014}, {\"MFSS\": 30, \"MODEL_YR\": \"2013\", \"DEFECT_RATE\": 0.014}, {\"MFSS\": 31, \"MODEL_YR\": \"2013\", \"DEFECT_RATE\": 0.014}, {\"MFSS\": 32, \"MODEL_YR\": \"2013\", \"DEFECT_RATE\": 0.014}, {\"MFSS\": 33, \"MODEL_YR\": \"2013\", \"DEFECT_RATE\": 0.014}, {\"MFSS\": 34, \"MODEL_YR\": \"2013\", \"DEFECT_RATE\": 0.015}, {\"MFSS\": 35, \"MODEL_YR\": \"2013\", \"DEFECT_RATE\": 0.015}, {\"MFSS\": 36, \"MODEL_YR\": \"2013\", \"DEFECT_RATE\": 0.016}, {\"MFSS\": 37, \"MODEL_YR\": \"2013\", \"DEFECT_RATE\": 0.018}, {\"MFSS\": 38, \"MODEL_YR\": \"2013\", \"DEFECT_RATE\": 0.018}, {\"MFSS\": 39, \"MODEL_YR\": \"2013\", \"DEFECT_RATE\": 0.018}, {\"MFSS\": 40, \"MODEL_YR\": \"2013\", \"DEFECT_RATE\": 0.018}, {\"MFSS\": 41, \"MODEL_YR\": \"2013\", \"DEFECT_RATE\": 0.019}, {\"MFSS\": 42, \"MODEL_YR\": \"2013\", \"DEFECT_RATE\": 0.019}, {\"MFSS\": 43, \"MODEL_YR\": \"2013\", \"DEFECT_RATE\": 0.019}, {\"MFSS\": 44, \"MODEL_YR\": \"2013\", \"DEFECT_RATE\": 0.019}, {\"MFSS\": 45, \"MODEL_YR\": \"2013\", \"DEFECT_RATE\": 0.02}, {\"MFSS\": 46, \"MODEL_YR\": \"2013\", \"DEFECT_RATE\": 0.021}, {\"MFSS\": 47, \"MODEL_YR\": \"2013\", \"DEFECT_RATE\": 0.021}, {\"MFSS\": 0, \"MODEL_YR\": \"2014\", \"DEFECT_RATE\": 0.0}, {\"MFSS\": 1, \"MODEL_YR\": \"2014\", \"DEFECT_RATE\": 0.0}, {\"MFSS\": 2, \"MODEL_YR\": \"2014\", \"DEFECT_RATE\": 0.0}, {\"MFSS\": 3, \"MODEL_YR\": \"2014\", \"DEFECT_RATE\": 0.0}, {\"MFSS\": 4, \"MODEL_YR\": \"2014\", \"DEFECT_RATE\": 0.0}, {\"MFSS\": 5, \"MODEL_YR\": \"2014\", \"DEFECT_RATE\": 0.0}, {\"MFSS\": 6, \"MODEL_YR\": \"2014\", \"DEFECT_RATE\": 0.0}, {\"MFSS\": 7, \"MODEL_YR\": \"2014\", \"DEFECT_RATE\": 0.0}, {\"MFSS\": 8, \"MODEL_YR\": \"2014\", \"DEFECT_RATE\": 0.0}, {\"MFSS\": 9, \"MODEL_YR\": \"2014\", \"DEFECT_RATE\": 0.0}, {\"MFSS\": 10, \"MODEL_YR\": \"2014\", \"DEFECT_RATE\": 0.0}, {\"MFSS\": 11, \"MODEL_YR\": \"2014\", \"DEFECT_RATE\": 0.0}, {\"MFSS\": 12, \"MODEL_YR\": \"2014\", \"DEFECT_RATE\": 0.0}, {\"MFSS\": 13, \"MODEL_YR\": \"2014\", \"DEFECT_RATE\": 0.0}, {\"MFSS\": 14, \"MODEL_YR\": \"2014\", \"DEFECT_RATE\": 0.0}, {\"MFSS\": 15, \"MODEL_YR\": \"2014\", \"DEFECT_RATE\": 0.0}, {\"MFSS\": 16, \"MODEL_YR\": \"2014\", \"DEFECT_RATE\": 0.0}, {\"MFSS\": 17, \"MODEL_YR\": \"2014\", \"DEFECT_RATE\": 0.0}, {\"MFSS\": 18, \"MODEL_YR\": \"2014\", \"DEFECT_RATE\": 0.0}, {\"MFSS\": 19, \"MODEL_YR\": \"2014\", \"DEFECT_RATE\": 0.014}, {\"MFSS\": 20, \"MODEL_YR\": \"2014\", \"DEFECT_RATE\": 0.014}, {\"MFSS\": 21, \"MODEL_YR\": \"2014\", \"DEFECT_RATE\": 0.014}, {\"MFSS\": 22, \"MODEL_YR\": \"2014\", \"DEFECT_RATE\": 0.014}, {\"MFSS\": 23, \"MODEL_YR\": \"2014\", \"DEFECT_RATE\": 0.014}, {\"MFSS\": 24, \"MODEL_YR\": \"2014\", \"DEFECT_RATE\": 0.014}, {\"MFSS\": 25, \"MODEL_YR\": \"2014\", \"DEFECT_RATE\": 0.014}, {\"MFSS\": 26, \"MODEL_YR\": \"2014\", \"DEFECT_RATE\": 0.014}, {\"MFSS\": 27, \"MODEL_YR\": \"2014\", \"DEFECT_RATE\": 0.014}, {\"MFSS\": 28, \"MODEL_YR\": \"2014\", \"DEFECT_RATE\": 0.014}, {\"MFSS\": 29, \"MODEL_YR\": \"2014\", \"DEFECT_RATE\": 0.014}, {\"MFSS\": 30, \"MODEL_YR\": \"2014\", \"DEFECT_RATE\": 0.014}, {\"MFSS\": 31, \"MODEL_YR\": \"2014\", \"DEFECT_RATE\": 0.014}, {\"MFSS\": 32, \"MODEL_YR\": \"2014\", \"DEFECT_RATE\": 0.014}, {\"MFSS\": 33, \"MODEL_YR\": \"2014\", \"DEFECT_RATE\": 0.014}, {\"MFSS\": 34, \"MODEL_YR\": \"2014\", \"DEFECT_RATE\": 0.014}, {\"MFSS\": 35, \"MODEL_YR\": \"2014\", \"DEFECT_RATE\": 0.028}, {\"MFSS\": 36, \"MODEL_YR\": \"2014\", \"DEFECT_RATE\": 0.028}, {\"MFSS\": 0, \"MODEL_YR\": \"2015\", \"DEFECT_RATE\": 0.0}, {\"MFSS\": 1, \"MODEL_YR\": \"2015\", \"DEFECT_RATE\": 0.0}, {\"MFSS\": 2, \"MODEL_YR\": \"2015\", \"DEFECT_RATE\": 0.0}, {\"MFSS\": 3, \"MODEL_YR\": \"2015\", \"DEFECT_RATE\": 0.0}, {\"MFSS\": 4, \"MODEL_YR\": \"2015\", \"DEFECT_RATE\": 0.004}, {\"MFSS\": 5, \"MODEL_YR\": \"2015\", \"DEFECT_RATE\": 0.006}, {\"MFSS\": 6, \"MODEL_YR\": \"2015\", \"DEFECT_RATE\": 0.007}, {\"MFSS\": 7, \"MODEL_YR\": \"2015\", \"DEFECT_RATE\": 0.014}, {\"MFSS\": 8, \"MODEL_YR\": \"2015\", \"DEFECT_RATE\": 0.016}, {\"MFSS\": 9, \"MODEL_YR\": \"2015\", \"DEFECT_RATE\": 0.02}, {\"MFSS\": 10, \"MODEL_YR\": \"2015\", \"DEFECT_RATE\": 0.028}, {\"MFSS\": 11, \"MODEL_YR\": \"2015\", \"DEFECT_RATE\": 0.033}, {\"MFSS\": 12, \"MODEL_YR\": \"2015\", \"DEFECT_RATE\": 0.039}, {\"MFSS\": 13, \"MODEL_YR\": \"2015\", \"DEFECT_RATE\": 0.049}, {\"MFSS\": 14, \"MODEL_YR\": \"2015\", \"DEFECT_RATE\": 0.06}, {\"MFSS\": 15, \"MODEL_YR\": \"2015\", \"DEFECT_RATE\": 0.066}, {\"MFSS\": 16, \"MODEL_YR\": \"2015\", \"DEFECT_RATE\": 0.075}, {\"MFSS\": 17, \"MODEL_YR\": \"2015\", \"DEFECT_RATE\": 0.084}, {\"MFSS\": 18, \"MODEL_YR\": \"2015\", \"DEFECT_RATE\": 0.093}, {\"MFSS\": 19, \"MODEL_YR\": \"2015\", \"DEFECT_RATE\": 0.103}, {\"MFSS\": 20, \"MODEL_YR\": \"2015\", \"DEFECT_RATE\": 0.116}, {\"MFSS\": 21, \"MODEL_YR\": \"2015\", \"DEFECT_RATE\": 0.121}, {\"MFSS\": 22, \"MODEL_YR\": \"2015\", \"DEFECT_RATE\": 0.135}, {\"MFSS\": 23, \"MODEL_YR\": \"2015\", \"DEFECT_RATE\": 0.15}, {\"MFSS\": 24, \"MODEL_YR\": \"2015\", \"DEFECT_RATE\": 0.161}, {\"MFSS\": 25, \"MODEL_YR\": \"2015\", \"DEFECT_RATE\": 0.174}, {\"MFSS\": 26, \"MODEL_YR\": \"2015\", \"DEFECT_RATE\": 0.188}, {\"MFSS\": 0, \"MODEL_YR\": \"2016\", \"DEFECT_RATE\": 0.0}, {\"MFSS\": 1, \"MODEL_YR\": \"2016\", \"DEFECT_RATE\": 0.0}, {\"MFSS\": 2, \"MODEL_YR\": \"2016\", \"DEFECT_RATE\": 0.0}, {\"MFSS\": 3, \"MODEL_YR\": \"2016\", \"DEFECT_RATE\": 0.0}, {\"MFSS\": 4, \"MODEL_YR\": \"2016\", \"DEFECT_RATE\": 0.0}, {\"MFSS\": 5, \"MODEL_YR\": \"2016\", \"DEFECT_RATE\": 0.0}, {\"MFSS\": 6, \"MODEL_YR\": \"2016\", \"DEFECT_RATE\": 0.0}, {\"MFSS\": 7, \"MODEL_YR\": \"2016\", \"DEFECT_RATE\": 0.0}, {\"MFSS\": 8, \"MODEL_YR\": \"2016\", \"DEFECT_RATE\": 0.0}, {\"MFSS\": 9, \"MODEL_YR\": \"2016\", \"DEFECT_RATE\": 0.0}, {\"MFSS\": 10, \"MODEL_YR\": \"2016\", \"DEFECT_RATE\": 0.0}, {\"MFSS\": 11, \"MODEL_YR\": \"2016\", \"DEFECT_RATE\": 0.005}, {\"MFSS\": 12, \"MODEL_YR\": \"2016\", \"DEFECT_RATE\": 0.009}, {\"MFSS\": 13, \"MODEL_YR\": \"2016\", \"DEFECT_RATE\": 0.009}]}};\n",
       "var selector = \"#e035f60b-4ff1-4f71-9d30-44bf16df9371\";\n",
       "var type = \"vega-lite\";\n",
       "\n",
       "var output_area = this;\n",
       "require(['nbextensions/jupyter-vega/index'], function(vega) {\n",
       "  vega.render(selector, spec, type, output_area);\n",
       "}, function (err) {\n",
       "  if (err.requireType !== 'scripterror') {\n",
       "    throw(err);\n",
       "  }\n",
       "});\n"
      ]
     },
     "metadata": {
      "jupyter-vega": "#e035f60b-4ff1-4f71-9d30-44bf16df9371"
     },
     "output_type": "display_data"
    },
    {
     "data": {
      "image/png": "[encoded data removed]"
     },
     "metadata": {
      "jupyter-vega": "#e035f60b-4ff1-4f71-9d30-44bf16df9371"
     },
     "output_type": "display_data"
    }
   ],
   "source": [
    "Chart(data).mark_line().encode(\n",
    "    x='MFSS:Q',\n",
    "    y=Y('DEFECT_RATE', axis=Axis(format=\".2f\", title='Defect Rate (%)')),\n",
    "    color='MODEL_YR'\n",
    ")"
   ]
  },
  {
   "cell_type": "markdown",
   "metadata": {},
   "source": [
    "**Defect Rate versus Vehicle Build Month**"
   ]
  },
  {
   "cell_type": "code",
   "execution_count": 119,
   "metadata": {
    "collapsed": false
   },
   "outputs": [
    {
     "data": {
      "text/html": [
       "<div class=\"vega-embed\" id=\"c3006c32-6cee-4a15-95e7-614a0104ce0b\"></div>\n",
       "\n",
       "<style>\n",
       ".vega-embed svg, .vega-embed canvas {\n",
       "  border: 1px dotted gray;\n",
       "}\n",
       "\n",
       ".vega-embed .vega-actions a {\n",
       "  margin-right: 6px;\n",
       "}\n",
       "</style>\n"
      ]
     },
     "metadata": {
      "jupyter-vega": "#c3006c32-6cee-4a15-95e7-614a0104ce0b"
     },
     "output_type": "display_data"
    },
    {
     "data": {
      "application/javascript": [
       "var spec = {\"encoding\": {\"color\": {\"type\": \"nominal\", \"field\": \"MODEL_YR\"}, \"x\": {\"type\": \"nominal\", \"field\": \"BUILD_MTH\"}, \"y\": {\"type\": \"quantitative\", \"field\": \"DEFECT_RATE\", \"axis\": {\"format\": \".2f\", \"title\": \"Defect Rate (%)\"}}}, \"mark\": \"bar\", \"config\": {\"cell\": {\"width\": 500, \"height\": 350}}, \"data\": {\"values\": [{\"MODEL_YR\": \"2012\", \"DEFECT_RATE\": 0.07, \"BUILD_MTH\": \"2011-08\"}, {\"MODEL_YR\": \"2012\", \"DEFECT_RATE\": 0.051, \"BUILD_MTH\": \"2011-09\"}, {\"MODEL_YR\": \"2012\", \"DEFECT_RATE\": 0.043, \"BUILD_MTH\": \"2011-10\"}, {\"MODEL_YR\": \"2012\", \"DEFECT_RATE\": 0.023, \"BUILD_MTH\": \"2011-11\"}, {\"MODEL_YR\": \"2012\", \"DEFECT_RATE\": 0.017, \"BUILD_MTH\": \"2011-12\"}, {\"MODEL_YR\": \"2012\", \"DEFECT_RATE\": 0.064, \"BUILD_MTH\": \"2012-01\"}, {\"MODEL_YR\": \"2012\", \"DEFECT_RATE\": 0.023, \"BUILD_MTH\": \"2012-02\"}, {\"MODEL_YR\": \"2012\", \"DEFECT_RATE\": 0.0, \"BUILD_MTH\": \"2012-03\"}, {\"MODEL_YR\": \"2012\", \"DEFECT_RATE\": 0.073, \"BUILD_MTH\": \"2012-04\"}, {\"MODEL_YR\": \"2012\", \"DEFECT_RATE\": 0.027, \"BUILD_MTH\": \"2012-05\"}, {\"MODEL_YR\": \"2012\", \"DEFECT_RATE\": 0.069, \"BUILD_MTH\": \"2012-06\"}, {\"MODEL_YR\": \"2013\", \"DEFECT_RATE\": 0.014, \"BUILD_MTH\": \"2012-07\"}, {\"MODEL_YR\": \"2013\", \"DEFECT_RATE\": 0.056, \"BUILD_MTH\": \"2012-08\"}, {\"MODEL_YR\": \"2013\", \"DEFECT_RATE\": 0.0, \"BUILD_MTH\": \"2012-09\"}, {\"MODEL_YR\": \"2013\", \"DEFECT_RATE\": 0.0, \"BUILD_MTH\": \"2012-10\"}, {\"MODEL_YR\": \"2013\", \"DEFECT_RATE\": 0.02, \"BUILD_MTH\": \"2012-11\"}, {\"MODEL_YR\": \"2013\", \"DEFECT_RATE\": 0.06, \"BUILD_MTH\": \"2012-12\"}, {\"MODEL_YR\": \"2013\", \"DEFECT_RATE\": 0.022, \"BUILD_MTH\": \"2013-01\"}, {\"MODEL_YR\": \"2013\", \"DEFECT_RATE\": 0.0, \"BUILD_MTH\": \"2013-02\"}, {\"MODEL_YR\": \"2013\", \"DEFECT_RATE\": 0.028, \"BUILD_MTH\": \"2013-03\"}, {\"MODEL_YR\": \"2013\", \"DEFECT_RATE\": 0.0, \"BUILD_MTH\": \"2013-04\"}, {\"MODEL_YR\": \"2013\", \"DEFECT_RATE\": 0.025, \"BUILD_MTH\": \"2013-05\"}, {\"MODEL_YR\": \"2013\", \"DEFECT_RATE\": 0.0, \"BUILD_MTH\": \"2013-06\"}, {\"MODEL_YR\": \"2013\", \"DEFECT_RATE\": 0.022, \"BUILD_MTH\": \"2013-07\"}, {\"MODEL_YR\": \"2013\", \"DEFECT_RATE\": 0.015, \"BUILD_MTH\": \"2013-08\"}, {\"MODEL_YR\": \"2013\", \"DEFECT_RATE\": 0.029, \"BUILD_MTH\": \"2013-09\"}, {\"MODEL_YR\": \"2013\", \"DEFECT_RATE\": 0.06, \"BUILD_MTH\": \"2013-10\"}, {\"MODEL_YR\": \"2013\", \"DEFECT_RATE\": 0.0, \"BUILD_MTH\": \"2013-11\"}, {\"MODEL_YR\": \"2013\", \"DEFECT_RATE\": 0.0, \"BUILD_MTH\": \"2013-12\"}, {\"MODEL_YR\": \"2014\", \"DEFECT_RATE\": 0.0, \"BUILD_MTH\": \"2013-07\"}, {\"MODEL_YR\": \"2014\", \"DEFECT_RATE\": 0.0, \"BUILD_MTH\": \"2013-08\"}, {\"MODEL_YR\": \"2014\", \"DEFECT_RATE\": 0.082, \"BUILD_MTH\": \"2013-09\"}, {\"MODEL_YR\": \"2014\", \"DEFECT_RATE\": 0.0, \"BUILD_MTH\": \"2013-10\"}, {\"MODEL_YR\": \"2014\", \"DEFECT_RATE\": 0.078, \"BUILD_MTH\": \"2013-11\"}, {\"MODEL_YR\": \"2014\", \"DEFECT_RATE\": 0.0, \"BUILD_MTH\": \"2013-12\"}, {\"MODEL_YR\": \"2014\", \"DEFECT_RATE\": 0.0, \"BUILD_MTH\": \"2014-01\"}, {\"MODEL_YR\": \"2014\", \"DEFECT_RATE\": 0.0, \"BUILD_MTH\": \"2014-02\"}, {\"MODEL_YR\": \"2015\", \"DEFECT_RATE\": 0.229, \"BUILD_MTH\": \"2014-02\"}, {\"MODEL_YR\": \"2015\", \"DEFECT_RATE\": 0.385, \"BUILD_MTH\": \"2014-03\"}, {\"MODEL_YR\": \"2015\", \"DEFECT_RATE\": 0.283, \"BUILD_MTH\": \"2014-04\"}, {\"MODEL_YR\": \"2015\", \"DEFECT_RATE\": 0.283, \"BUILD_MTH\": \"2014-05\"}, {\"MODEL_YR\": \"2015\", \"DEFECT_RATE\": 0.332, \"BUILD_MTH\": \"2014-06\"}, {\"MODEL_YR\": \"2015\", \"DEFECT_RATE\": 0.295, \"BUILD_MTH\": \"2014-07\"}, {\"MODEL_YR\": \"2015\", \"DEFECT_RATE\": 0.36, \"BUILD_MTH\": \"2014-08\"}, {\"MODEL_YR\": \"2015\", \"DEFECT_RATE\": 0.235, \"BUILD_MTH\": \"2014-09\"}, {\"MODEL_YR\": \"2015\", \"DEFECT_RATE\": 0.078, \"BUILD_MTH\": \"2014-10\"}, {\"MODEL_YR\": \"2015\", \"DEFECT_RATE\": 0.143, \"BUILD_MTH\": \"2014-11\"}, {\"MODEL_YR\": \"2015\", \"DEFECT_RATE\": 0.316, \"BUILD_MTH\": \"2014-12\"}, {\"MODEL_YR\": \"2015\", \"DEFECT_RATE\": 0.058, \"BUILD_MTH\": \"2015-01\"}, {\"MODEL_YR\": \"2015\", \"DEFECT_RATE\": 0.0, \"BUILD_MTH\": \"2015-02\"}, {\"MODEL_YR\": \"2015\", \"DEFECT_RATE\": 0.07, \"BUILD_MTH\": \"2015-03\"}, {\"MODEL_YR\": \"2015\", \"DEFECT_RATE\": 0.0, \"BUILD_MTH\": \"2015-04\"}, {\"MODEL_YR\": \"2015\", \"DEFECT_RATE\": 0.0, \"BUILD_MTH\": \"2015-05\"}, {\"MODEL_YR\": \"2016\", \"DEFECT_RATE\": 0.0, \"BUILD_MTH\": \"2015-05\"}, {\"MODEL_YR\": \"2016\", \"DEFECT_RATE\": 0.0, \"BUILD_MTH\": \"2015-06\"}, {\"MODEL_YR\": \"2016\", \"DEFECT_RATE\": 0.0, \"BUILD_MTH\": \"2015-07\"}, {\"MODEL_YR\": \"2016\", \"DEFECT_RATE\": 0.165, \"BUILD_MTH\": \"2015-08\"}, {\"MODEL_YR\": \"2016\", \"DEFECT_RATE\": 0.0, \"BUILD_MTH\": \"2015-09\"}, {\"MODEL_YR\": \"2016\", \"DEFECT_RATE\": 0.0, \"BUILD_MTH\": \"2015-10\"}, {\"MODEL_YR\": \"2016\", \"DEFECT_RATE\": 0.013, \"BUILD_MTH\": \"2015-11\"}, {\"MODEL_YR\": \"2016\", \"DEFECT_RATE\": 0.0, \"BUILD_MTH\": \"2015-12\"}]}};\n",
       "var selector = \"#c3006c32-6cee-4a15-95e7-614a0104ce0b\";\n",
       "var type = \"vega-lite\";\n",
       "\n",
       "var output_area = this;\n",
       "require(['nbextensions/jupyter-vega/index'], function(vega) {\n",
       "  vega.render(selector, spec, type, output_area);\n",
       "}, function (err) {\n",
       "  if (err.requireType !== 'scripterror') {\n",
       "    throw(err);\n",
       "  }\n",
       "});\n"
      ]
     },
     "metadata": {
      "jupyter-vega": "#c3006c32-6cee-4a15-95e7-614a0104ce0b"
     },
     "output_type": "display_data"
    },
    {
     "data": {
      "image/png": "[encoded data removed]"
     },
     "metadata": {
      "jupyter-vega": "#c3006c32-6cee-4a15-95e7-614a0104ce0b"
     },
     "output_type": "display_data"
    }
   ],
   "source": [
    "df = pd.read_clipboard()\n",
    "\n",
    "# To use Altair, data must be in long format\n",
    "data = pd.melt(df, id_vars=['BUILD_MTH']).dropna()\n",
    "data.value = data.value.map(lambda x: x.replace('%','')).astype(np.float)\n",
    "data.columns = ['BUILD_MTH','MODEL_YR','DEFECT_RATE']\n",
    "\n",
    "Chart(data).mark_bar().encode(\n",
    "    x='BUILD_MTH',\n",
    "    y=Y('DEFECT_RATE', axis=Axis(format=\".2f\", title='Defect Rate (%)')),\n",
    "    color='MODEL_YR'\n",
    ")"
   ]
  },
  {
   "cell_type": "markdown",
   "metadata": {},
   "source": [
    "### Supplier Percent Responsibility:"
   ]
  },
  {
   "cell_type": "markdown",
   "metadata": {},
   "source": [
    "Based on past warranty trend, supplier's percent responsibility will be 92.38%."
   ]
  },
  {
   "cell_type": "markdown",
   "metadata": {},
   "source": [
    "### Initial Warranty Cost Reimbursement:"
   ]
  },
  {
   "cell_type": "markdown",
   "metadata": {},
   "source": [
    "- HM has currently already paid **&#36;124,403.04**\n",
    "- Dept X has determined the supplier's initial reimbursement amount to be **&#36;114,923.53:**\n",
    "    - Total number of claims through end of August 2016: 144\n",
    "    - [(part cost) + (labor cost) + (handling cost)] x (# of claims) x (% supplier responsibility)\n",
    "    - (384.88 + 231 + 248.03) x 144 x 92.38% = **&#36;114,923.53**"
   ]
  },
  {
   "cell_type": "code",
   "execution_count": 4,
   "metadata": {
    "collapsed": false
   },
   "outputs": [
    {
     "data": {
      "text/html": [
       "<div class=\"vega-embed\" id=\"efb4084d-1704-4480-bc6b-2142c2641a18\"></div>\n",
       "\n",
       "<style>\n",
       ".vega-embed svg, .vega-embed canvas {\n",
       "  border: 1px dotted gray;\n",
       "}\n",
       "\n",
       ".vega-embed .vega-actions a {\n",
       "  margin-right: 6px;\n",
       "}\n",
       "</style>\n"
      ]
     },
     "metadata": {
      "jupyter-vega": "#efb4084d-1704-4480-bc6b-2142c2641a18"
     },
     "output_type": "display_data"
    },
    {
     "data": {
      "application/javascript": [
       "var spec = {\"data\": {\"values\": [{\"Amount\": 124403.04, \"Company\": \"HM\"}, {\"Amount\": 114923.53, \"Company\": \"ABC Corp\"}]}, \"config\": {\"cell\": {\"width\": 500, \"height\": 350}}, \"encoding\": {\"y\": {\"field\": \"Amount\", \"type\": \"quantitative\", \"axis\": {\"format\": \"$f\", \"title\": \"Total Warranty Cost ($)\"}}, \"color\": {\"field\": \"Company\", \"type\": \"nominal\"}, \"x\": {\"field\": \"Company\", \"type\": \"nominal\", \"sort\": {\"field\": \"Amount\", \"order\": \"descending\", \"op\": \"sum\"}}}, \"mark\": \"bar\"};\n",
       "var selector = \"#efb4084d-1704-4480-bc6b-2142c2641a18\";\n",
       "var type = \"vega-lite\";\n",
       "\n",
       "var output_area = this;\n",
       "require(['nbextensions/jupyter-vega/index'], function(vega) {\n",
       "  vega.render(selector, spec, type, output_area);\n",
       "}, function (err) {\n",
       "  if (err.requireType !== 'scripterror') {\n",
       "    throw(err);\n",
       "  }\n",
       "});\n"
      ]
     },
     "metadata": {
      "jupyter-vega": "#efb4084d-1704-4480-bc6b-2142c2641a18"
     },
     "output_type": "display_data"
    },
    {
     "data": {
      "image/png": "[encoded data removed]"
     },
     "metadata": {
      "jupyter-vega": "#efb4084d-1704-4480-bc6b-2142c2641a18"
     },
     "output_type": "display_data"
    }
   ],
   "source": [
    "data = pd.read_clipboard()\n",
    "\n",
    "data['Amount'] = data['Amount'].map(lambda x: x.replace('$','').replace(',','')).astype(np.float)\n",
    "data.columns = ['Company','Amount']\n",
    "\n",
    "Chart(data).mark_bar().encode(\n",
    "    y=Y('Amount', axis=Axis(format=\"$f\", title='Total Warranty Cost ($)')),\n",
    "    x=X('Company', sort=SortField(field='Amount', order='descending', op='sum')),\n",
    "    #x='Company',\n",
    "    color='Company'\n",
    ")"
   ]
  }
 ],
 "metadata": {
  "hide_input": false,
  "kernelspec": {
   "display_name": "Python 3",
   "language": "python",
   "name": "python3"
  },
  "language_info": {
   "codemirror_mode": {
    "name": "ipython",
    "version": 3
   },
   "file_extension": ".py",
   "mimetype": "text/x-python",
   "name": "python",
   "nbconvert_exporter": "python",
   "pygments_lexer": "ipython3",
   "version": "3.5.1"
  }
 },
 "nbformat": 4,
 "nbformat_minor": 0
}
